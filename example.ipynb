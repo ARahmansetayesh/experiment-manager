{
 "cells": [
  {
   "cell_type": "code",
   "execution_count": 1,
   "id": "42aaa05a",
   "metadata": {},
   "outputs": [],
   "source": [
    "import experiment as exp"
   ]
  },
  {
   "cell_type": "code",
   "execution_count": null,
   "id": "4c0c18dc",
   "metadata": {},
   "outputs": [
    {
     "name": "stdout",
     "output_type": "stream",
     "text": [
      "\n",
      "The experiment:\n",
      "\n",
      "Give a title to your experiment: param1_0d1_param2_0d31\n",
      "\n",
      "did not run because the log has already been saved.\n",
      "\n"
     ]
    },
    {
     "data": {
      "text/plain": [
       "{'test_result1': [1, 4, 5],\n",
       " 'test_result3': 4,\n",
       " 'timestamp': '2025-10-01 21:41:03'}"
      ]
     },
     "execution_count": 2,
     "metadata": {},
     "output_type": "execute_result"
    }
   ],
   "source": [
    "\n",
    "\n",
    "# if the experiment log is already saved, the experiment will not run again if repeat_if_log_is_saved is set to False\n",
    "# if the experiment log is already saved, the experiment will run again if repeat_if_log_is_saved is set to True\n",
    "# if save_log is set to True, the experiment log will be saved\n",
    "# if save_result is set to True, the experiment result will be saved if the final_experiment_quality is greater than or equal to save_result_quality_threshold\n",
    "# if save_result is set to False, the experiment result will not be saved regardless of the final_experiment_quality\n",
    "\n",
    "\n",
    "class Experiment_1(exp.Experiment_abst):\n",
    "    experiment_description = \"Describe your experiment here\"\n",
    "    experiment_title = \"Give a title to your experiment\"\n",
    "    experiment_unique_id = \"Give an unique id to your experiment\"\n",
    "\n",
    "\n",
    "\n",
    "    def __init__(self , hyper_parameters: dict):\n",
    "        super().__init__( hyper_parameters)\n",
    "        self.experiment_done = False\n",
    "\n",
    "        self.final_experiment_quality = 0   \n",
    "        self.final_experiment_log = \"\"\n",
    "        self.final_experiment_data = {}\n",
    "\n",
    "\n",
    "\n",
    "\n",
    "\n",
    "    def run(self):\n",
    "\n",
    "        print(\"Experiment is running ...\")\n",
    "        # Your experiment code goes here ...\n",
    "        # You can access the hyper-parameters using self.hyper_parameters dictionary\n",
    "\n",
    "        print(f\"Hyper-parameters: {self.hyper_parameters}\")\n",
    "\n",
    "\n",
    "        self.final_experiment_quality = 3 \n",
    "        self.final_experiment_log = \"Put your experiment log here ...\"\n",
    "        self.final_experiment_data = {}\n",
    "        self.final_experiment_data[\"test_result1\"] = [1,4,5]\n",
    "        self.final_experiment_data[\"test_result3\"] = 4\n",
    "\n",
    "\n",
    "hyper_parameters = {\"param1\": 0.1,\"param2\": 0.31}\n",
    "\n",
    "experiment = Experiment_1(hyper_parameters)\n",
    "experiment.run_and_save_log(repeat_if_log_is_saved = False , save_log = True , save_result = True , save_result_quality_threshold = 1)\n",
    "\n"
   ]
  },
  {
   "cell_type": "code",
   "execution_count": 5,
   "id": "9be581fa",
   "metadata": {},
   "outputs": [
    {
     "name": "stdout",
     "output_type": "stream",
     "text": [
      "\n",
      "The experiment:\n",
      "\n",
      "Give a title to your experiment: param1_0d1_param2_0d31\n",
      "\n",
      "did not run because the log has already been saved.\n",
      "\n"
     ]
    },
    {
     "data": {
      "text/plain": [
       "{'test_result1': [1, 4, 5],\n",
       " 'test_result3': 4,\n",
       " 'timestamp': '2025-10-01 21:41:03'}"
      ]
     },
     "execution_count": 5,
     "metadata": {},
     "output_type": "execute_result"
    }
   ],
   "source": [
    "hyper_parameters = {\"param1\": 0.1,\"param2\": 0.31}\n",
    "\n",
    "experiment = Experiment_1(hyper_parameters)\n",
    "experiment.run_and_save_log(repeat_if_log_is_saved = False , save_log = True , save_result = True , save_result_quality_threshold = 1)\n"
   ]
  },
  {
   "cell_type": "code",
   "execution_count": 6,
   "id": "175c542d",
   "metadata": {},
   "outputs": [
    {
     "name": "stdout",
     "output_type": "stream",
     "text": [
      "\n",
      "The experiment:\n",
      "Give a title to your experiment: param1_0d1_param2_0d33\n",
      "is running.\n",
      "Experiment is running ...\n",
      "Hyper-parameters: {'param1': 0.1, 'param2': 0.33}\n",
      "The experiment execution has ended.\n"
     ]
    },
    {
     "data": {
      "text/plain": [
       "{'test_result1': [1, 4, 5],\n",
       " 'test_result3': 4,\n",
       " 'timestamp': '2025-10-01 21:41:40'}"
      ]
     },
     "execution_count": 6,
     "metadata": {},
     "output_type": "execute_result"
    }
   ],
   "source": [
    "hyper_parameters = {\"param1\": 0.1,\"param2\": 0.33}\n",
    "\n",
    "experiment = Experiment_1(hyper_parameters)\n",
    "experiment.run_and_save_log(repeat_if_log_is_saved = False , save_log = True , save_result = True , save_result_quality_threshold = 1)"
   ]
  },
  {
   "cell_type": "code",
   "execution_count": null,
   "id": "73315879",
   "metadata": {},
   "outputs": [],
   "source": []
  },
  {
   "cell_type": "code",
   "execution_count": null,
   "id": "184918db",
   "metadata": {},
   "outputs": [
    {
     "name": "stdout",
     "output_type": "stream",
     "text": [
      "\n",
      "The experiment:\n",
      "\n",
      "Give a title to your experiment: param1_0d1_param2_0d38\n",
      "\n",
      "did not run because the log has already been saved.\n",
      "\n"
     ]
    },
    {
     "data": {
      "text/plain": [
       "{}"
      ]
     },
     "execution_count": 8,
     "metadata": {},
     "output_type": "execute_result"
    }
   ],
   "source": [
    "\n",
    "# if save_result is set to True, the experiment result will be saved if the final_experiment_quality is greater than or equal to save_result_quality_threshold\n",
    "# in this example, the final_experiment_quality is 3 and save_result_quality_threshold is set to 5, so the result will not be saved. But the log will be saved\n",
    "\n",
    "class Experiment_1(exp.Experiment_abst):\n",
    "    experiment_description = \"Describe your experiment here\"\n",
    "    experiment_title = \"Give a title to your experiment\"\n",
    "    experiment_unique_id = \"Give an unique id to your experiment\"\n",
    "\n",
    "\n",
    "\n",
    "    def __init__(self , hyper_parameters: dict):\n",
    "        super().__init__( hyper_parameters)\n",
    "        self.experiment_done = False\n",
    "\n",
    "        self.final_experiment_quality = 0   \n",
    "        self.final_experiment_log = \"\"\n",
    "        self.final_experiment_data = {}\n",
    "\n",
    "\n",
    "\n",
    "\n",
    "\n",
    "    def run(self):\n",
    "\n",
    "        print(\"Experiment is running ...\")\n",
    "        # Your experiment code goes here ...\n",
    "        # You can access the hyper-parameters using self.hyper_parameters dictionary\n",
    "\n",
    "        print(f\"Hyper-parameters: {self.hyper_parameters}\")\n",
    "\n",
    "\n",
    "        self.final_experiment_quality = 3 \n",
    "        self.final_experiment_log = \"Put your experiment log here ...\"\n",
    "        self.final_experiment_data = {}\n",
    "        self.final_experiment_data[\"test_result1\"] = [1,4,5]\n",
    "        self.final_experiment_data[\"test_result3\"] = 4\n",
    "\n",
    "\n",
    "hyper_parameters = {\"param1\": 0.1,\"param2\": 0.38}\n",
    "\n",
    "experiment = Experiment_1(hyper_parameters)\n",
    "experiment.run_and_save_log(repeat_if_log_is_saved = False , save_log = True , save_result = True , save_result_quality_threshold = 5)\n",
    "\n"
   ]
  },
  {
   "cell_type": "code",
   "execution_count": 9,
   "id": "c61e612e",
   "metadata": {},
   "outputs": [
    {
     "name": "stdout",
     "output_type": "stream",
     "text": [
      "\n",
      "The experiment:\n",
      "Give a title to your experiment: param1_0d1_param2_0d364\n",
      "is running.\n",
      "Experiment is running ...\n",
      "Traceback (most recent call last):\n",
      "  File \"/home/arahmans/my_python_packages/experiment/experiment.py\", line 104, in run_and_save_log\n",
      "  File \"/tmp/ipykernel_1509673/1902766997.py\", line 27, in run\n",
      "    raise Exception(\"This is a test exception\")\n",
      "Exception: This is a test exception\n",
      "\n"
     ]
    }
   ],
   "source": [
    "\n",
    "# if an exception occurs during the experiment run, the error log will be saved with the traceback  \n",
    "\n",
    "class Experiment_1(exp.Experiment_abst):\n",
    "    experiment_description = \"Describe your experiment here\"\n",
    "    experiment_title = \"Give a title to your experiment\"\n",
    "    experiment_unique_id = \"Give an unique id to your experiment\"\n",
    "\n",
    "\n",
    "\n",
    "    def __init__(self , hyper_parameters: dict):\n",
    "        super().__init__( hyper_parameters)\n",
    "        self.experiment_done = False\n",
    "\n",
    "        self.final_experiment_quality = 0   \n",
    "        self.final_experiment_log = \"\"\n",
    "        self.final_experiment_data = {}\n",
    "\n",
    "\n",
    "\n",
    "\n",
    "\n",
    "    def run(self):\n",
    "\n",
    "        print(\"Experiment is running ...\")\n",
    "        # Your experiment code goes here ...\n",
    "        # You can access the hyper-parameters using self.hyper_parameters dictionary\n",
    "        raise Exception(\"This is a test exception\")\n",
    "    \n",
    "        print(f\"Hyper-parameters: {self.hyper_parameters}\")\n",
    "\n",
    "\n",
    "        self.final_experiment_quality = 3 \n",
    "        self.final_experiment_log = \"Put your experiment log here ...\"\n",
    "        self.final_experiment_data = {}\n",
    "        self.final_experiment_data[\"test_result1\"] = [1,4,5]\n",
    "        self.final_experiment_data[\"test_result3\"] = 4\n",
    "\n",
    "\n",
    "hyper_parameters = {\"param1\": 0.1,\"param2\": 0.364}\n",
    "\n",
    "experiment = Experiment_1(hyper_parameters)\n",
    "experiment.run_and_save_log(repeat_if_log_is_saved = False , save_log = True , save_result = True , save_result_quality_threshold = 5)"
   ]
  }
 ],
 "metadata": {
  "kernelspec": {
   "display_name": ".venv",
   "language": "python",
   "name": "python3"
  },
  "language_info": {
   "codemirror_mode": {
    "name": "ipython",
    "version": 3
   },
   "file_extension": ".py",
   "mimetype": "text/x-python",
   "name": "python",
   "nbconvert_exporter": "python",
   "pygments_lexer": "ipython3",
   "version": "3.10.12"
  }
 },
 "nbformat": 4,
 "nbformat_minor": 5
}
